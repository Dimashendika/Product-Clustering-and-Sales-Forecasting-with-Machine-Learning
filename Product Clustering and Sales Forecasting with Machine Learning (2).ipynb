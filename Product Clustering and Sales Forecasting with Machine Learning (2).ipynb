{
 "cells": [
  {
   "cell_type": "markdown",
   "id": "c8c8faba-c48e-4b8c-9239-a80bce0085d9",
   "metadata": {},
   "source": [
    "## Product Clustering and Sales Forecasting with Machine Learning"
   ]
  },
  {
   "cell_type": "markdown",
   "id": "851668ab-1711-4c99-b828-5d69f2b205a5",
   "metadata": {},
   "source": [
    "### Objective:\n",
    "This project aims to explore and optimize sales performance by applying machine learning techniques including linear regression, KMeans clustering, and Holt-Winters forecasting. The goal is to segment products based on profitability and sales trends, and accurately forecast future revenue using time series analysis — enabling strategic business decisions in pricing, inventory, and marketing.\n",
    "\n",
    "### Dataset Link: https://www.kaggle.com/datasets/laibaanwer/superstore-sales-dataset \n",
    "\n",
    "### Key Insight:\n",
    "\n",
    "##### Discounts Have a Negative Impact on Profit\n",
    "\n",
    "* From linear regression analysis, I found that increasing discounts significantly reduces profit.\n",
    "* Each 1% increase in discount leads to an average profit reduction of approximately $2.60.\n",
    "* This suggests that over-discounting can harm profitability, and discount strategies should be optimized based on product margins.\n",
    "\n",
    "##### Product Segmentation Reveals 3 Key Clusters\n",
    "\n",
    "* Using KMeans clustering on sales and profit, I identified 3 product clusters:\n",
    "* Low sales, low profit – candidates for removal or heavy promotion\n",
    "* High sales, low profit – need pricing or cost optimization\n",
    "* High sales, high profit – likely best-sellers with healthy margins\n",
    "\n",
    "##### Future Sales Show an Upward Trend with Seasonality\n",
    "\n",
    "* Holt-Winters Forecasting revealed a clear upward sales trend, with predictable monthly seasonality.\n",
    "* Sales are expected to peak around mid-year (May–June) and drop slightly in Q1.\n",
    "* This insight is critical for resource planning, procurement, and budgeting in advance."
   ]
  },
  {
   "cell_type": "markdown",
   "id": "673c6adb-86bc-4324-8ebf-fa7f7c1e9084",
   "metadata": {},
   "source": [
    "### Import Library"
   ]
  },
  {
   "cell_type": "code",
   "execution_count": 1,
   "id": "f1e6176e-ad2a-4ee8-aaca-da55f2fe5bcf",
   "metadata": {},
   "outputs": [],
   "source": [
    "# 1. Import libraries\n",
    "import pandas as pd\n",
    "import numpy as np\n",
    "import matplotlib.pyplot as plt\n",
    "import seaborn as sns\n",
    "from sklearn.linear_model import LinearRegression\n",
    "from sklearn.cluster import KMeans\n",
    "from sklearn.preprocessing import StandardScaler\n",
    "from sklearn.metrics import r2_score, mean_squared_error\n",
    "\n",
    "import warnings\n",
    "warnings.filterwarnings('ignore')"
   ]
  },
  {
   "cell_type": "markdown",
   "id": "47773104-5ef3-47c2-8122-808244daa62c",
   "metadata": {},
   "source": [
    "### Load and Data Inspection"
   ]
  },
  {
   "cell_type": "code",
   "execution_count": 2,
   "id": "801b091f-9520-4e7f-8ea7-b5acfcbdf256",
   "metadata": {},
   "outputs": [],
   "source": [
    "# 2. Load data\n",
    "df = pd.read_csv(\n",
    "    'superstorefix.csv',\n",
    "    sep=';',\n",
    "    encoding='utf-8'\n",
    ")"
   ]
  },
  {
   "cell_type": "code",
   "execution_count": 3,
   "id": "b40ce05c-5709-4fc4-9f60-b1bd96a9a8a6",
   "metadata": {},
   "outputs": [
    {
     "data": {
      "text/html": [
       "<div>\n",
       "<style scoped>\n",
       "    .dataframe tbody tr th:only-of-type {\n",
       "        vertical-align: middle;\n",
       "    }\n",
       "\n",
       "    .dataframe tbody tr th {\n",
       "        vertical-align: top;\n",
       "    }\n",
       "\n",
       "    .dataframe thead th {\n",
       "        text-align: right;\n",
       "    }\n",
       "</style>\n",
       "<table border=\"1\" class=\"dataframe\">\n",
       "  <thead>\n",
       "    <tr style=\"text-align: right;\">\n",
       "      <th></th>\n",
       "      <th>order_id</th>\n",
       "      <th>order_date</th>\n",
       "      <th>ship_date</th>\n",
       "      <th>ship_mode</th>\n",
       "      <th>customer_name</th>\n",
       "      <th>segment</th>\n",
       "      <th>state</th>\n",
       "      <th>country</th>\n",
       "      <th>market</th>\n",
       "      <th>region</th>\n",
       "      <th>...</th>\n",
       "      <th>category</th>\n",
       "      <th>sub_category</th>\n",
       "      <th>product_name</th>\n",
       "      <th>sales</th>\n",
       "      <th>quantity</th>\n",
       "      <th>discount</th>\n",
       "      <th>profit</th>\n",
       "      <th>shipping_cost</th>\n",
       "      <th>order_priority</th>\n",
       "      <th>year</th>\n",
       "    </tr>\n",
       "  </thead>\n",
       "  <tbody>\n",
       "    <tr>\n",
       "      <th>0</th>\n",
       "      <td>AG-2011-2040</td>\n",
       "      <td>01/01/2011</td>\n",
       "      <td>06/01/2011</td>\n",
       "      <td>Standard Class</td>\n",
       "      <td>Toby Braunhardt</td>\n",
       "      <td>Consumer</td>\n",
       "      <td>Constantine</td>\n",
       "      <td>Algeria</td>\n",
       "      <td>Africa</td>\n",
       "      <td>Africa</td>\n",
       "      <td>...</td>\n",
       "      <td>Office Supplies</td>\n",
       "      <td>Storage</td>\n",
       "      <td>Tenex Lockers, Blue</td>\n",
       "      <td>408</td>\n",
       "      <td>2.0</td>\n",
       "      <td>0%</td>\n",
       "      <td>106.140</td>\n",
       "      <td>35.46</td>\n",
       "      <td>Medium</td>\n",
       "      <td>2011.0</td>\n",
       "    </tr>\n",
       "    <tr>\n",
       "      <th>1</th>\n",
       "      <td>IN-2011-47883</td>\n",
       "      <td>01/01/2011</td>\n",
       "      <td>08/01/2011</td>\n",
       "      <td>Standard Class</td>\n",
       "      <td>Joseph Holt</td>\n",
       "      <td>Consumer</td>\n",
       "      <td>New South Wales</td>\n",
       "      <td>Australia</td>\n",
       "      <td>APAC</td>\n",
       "      <td>Oceania</td>\n",
       "      <td>...</td>\n",
       "      <td>Office Supplies</td>\n",
       "      <td>Supplies</td>\n",
       "      <td>Acme Trimmer, High Speed</td>\n",
       "      <td>120</td>\n",
       "      <td>3.0</td>\n",
       "      <td>10%</td>\n",
       "      <td>36.036</td>\n",
       "      <td>9.72</td>\n",
       "      <td>Medium</td>\n",
       "      <td>2011.0</td>\n",
       "    </tr>\n",
       "    <tr>\n",
       "      <th>2</th>\n",
       "      <td>HU-2011-1220</td>\n",
       "      <td>01/01/2011</td>\n",
       "      <td>05/01/2011</td>\n",
       "      <td>Second Class</td>\n",
       "      <td>Annie Thurman</td>\n",
       "      <td>Consumer</td>\n",
       "      <td>Budapest</td>\n",
       "      <td>Hungary</td>\n",
       "      <td>EMEA</td>\n",
       "      <td>EMEA</td>\n",
       "      <td>...</td>\n",
       "      <td>Office Supplies</td>\n",
       "      <td>Storage</td>\n",
       "      <td>Tenex Box, Single Width</td>\n",
       "      <td>66</td>\n",
       "      <td>4.0</td>\n",
       "      <td>0%</td>\n",
       "      <td>29.640</td>\n",
       "      <td>8.17</td>\n",
       "      <td>High</td>\n",
       "      <td>2011.0</td>\n",
       "    </tr>\n",
       "    <tr>\n",
       "      <th>3</th>\n",
       "      <td>IT-2011-3647632</td>\n",
       "      <td>01/01/2011</td>\n",
       "      <td>05/01/2011</td>\n",
       "      <td>Second Class</td>\n",
       "      <td>Eugene Moren</td>\n",
       "      <td>Home Office</td>\n",
       "      <td>Stockholm</td>\n",
       "      <td>Sweden</td>\n",
       "      <td>EU</td>\n",
       "      <td>North</td>\n",
       "      <td>...</td>\n",
       "      <td>Office Supplies</td>\n",
       "      <td>Paper</td>\n",
       "      <td>Enermax Note Cards, Premium</td>\n",
       "      <td>45</td>\n",
       "      <td>3.0</td>\n",
       "      <td>50%</td>\n",
       "      <td>-26.055</td>\n",
       "      <td>4.82</td>\n",
       "      <td>High</td>\n",
       "      <td>2011.0</td>\n",
       "    </tr>\n",
       "    <tr>\n",
       "      <th>4</th>\n",
       "      <td>IN-2011-47883</td>\n",
       "      <td>01/01/2011</td>\n",
       "      <td>08/01/2011</td>\n",
       "      <td>Standard Class</td>\n",
       "      <td>Joseph Holt</td>\n",
       "      <td>Consumer</td>\n",
       "      <td>New South Wales</td>\n",
       "      <td>Australia</td>\n",
       "      <td>APAC</td>\n",
       "      <td>Oceania</td>\n",
       "      <td>...</td>\n",
       "      <td>Furniture</td>\n",
       "      <td>Furnishings</td>\n",
       "      <td>Eldon Light Bulb, Duo Pack</td>\n",
       "      <td>114</td>\n",
       "      <td>5.0</td>\n",
       "      <td>10%</td>\n",
       "      <td>37.770</td>\n",
       "      <td>4.70</td>\n",
       "      <td>Medium</td>\n",
       "      <td>2011.0</td>\n",
       "    </tr>\n",
       "  </tbody>\n",
       "</table>\n",
       "<p>5 rows × 21 columns</p>\n",
       "</div>"
      ],
      "text/plain": [
       "          order_id  order_date   ship_date       ship_mode    customer_name  \\\n",
       "0     AG-2011-2040  01/01/2011  06/01/2011  Standard Class  Toby Braunhardt   \n",
       "1    IN-2011-47883  01/01/2011  08/01/2011  Standard Class      Joseph Holt   \n",
       "2     HU-2011-1220  01/01/2011  05/01/2011    Second Class    Annie Thurman   \n",
       "3  IT-2011-3647632  01/01/2011  05/01/2011    Second Class     Eugene Moren   \n",
       "4    IN-2011-47883  01/01/2011  08/01/2011  Standard Class      Joseph Holt   \n",
       "\n",
       "       segment            state    country  market   region  ...  \\\n",
       "0     Consumer      Constantine    Algeria  Africa   Africa  ...   \n",
       "1     Consumer  New South Wales  Australia    APAC  Oceania  ...   \n",
       "2     Consumer         Budapest    Hungary    EMEA     EMEA  ...   \n",
       "3  Home Office        Stockholm     Sweden      EU    North  ...   \n",
       "4     Consumer  New South Wales  Australia    APAC  Oceania  ...   \n",
       "\n",
       "          category sub_category                 product_name sales quantity  \\\n",
       "0  Office Supplies      Storage          Tenex Lockers, Blue   408      2.0   \n",
       "1  Office Supplies     Supplies     Acme Trimmer, High Speed   120      3.0   \n",
       "2  Office Supplies      Storage      Tenex Box, Single Width    66      4.0   \n",
       "3  Office Supplies        Paper  Enermax Note Cards, Premium    45      3.0   \n",
       "4        Furniture  Furnishings   Eldon Light Bulb, Duo Pack   114      5.0   \n",
       "\n",
       "   discount   profit  shipping_cost  order_priority    year  \n",
       "0        0%  106.140          35.46          Medium  2011.0  \n",
       "1       10%   36.036           9.72          Medium  2011.0  \n",
       "2        0%   29.640           8.17            High  2011.0  \n",
       "3       50%  -26.055           4.82            High  2011.0  \n",
       "4       10%   37.770           4.70          Medium  2011.0  \n",
       "\n",
       "[5 rows x 21 columns]"
      ]
     },
     "execution_count": 3,
     "metadata": {},
     "output_type": "execute_result"
    }
   ],
   "source": [
    "df.head()"
   ]
  },
  {
   "cell_type": "code",
   "execution_count": 4,
   "id": "ef54db16-96c9-4ab5-87d8-7d8231b144ad",
   "metadata": {
    "scrolled": true
   },
   "outputs": [
    {
     "name": "stdout",
     "output_type": "stream",
     "text": [
      "<class 'pandas.core.frame.DataFrame'>\n",
      "RangeIndex: 51290 entries, 0 to 51289\n",
      "Data columns (total 21 columns):\n",
      " #   Column          Non-Null Count  Dtype  \n",
      "---  ------          --------------  -----  \n",
      " 0   order_id        51290 non-null  object \n",
      " 1   order_date      51290 non-null  object \n",
      " 2   ship_date       51290 non-null  object \n",
      " 3   ship_mode       51290 non-null  object \n",
      " 4   customer_name   51290 non-null  object \n",
      " 5   segment         51290 non-null  object \n",
      " 6   state           51290 non-null  object \n",
      " 7   country         51290 non-null  object \n",
      " 8   market          51290 non-null  object \n",
      " 9   region          51290 non-null  object \n",
      " 10  product_id      51290 non-null  object \n",
      " 11  category        51290 non-null  object \n",
      " 12  sub_category    51290 non-null  object \n",
      " 13  product_name    51290 non-null  object \n",
      " 14  sales           51284 non-null  object \n",
      " 15  quantity        51284 non-null  float64\n",
      " 16  discount        51284 non-null  object \n",
      " 17  profit          51284 non-null  float64\n",
      " 18  shipping_cost   51284 non-null  float64\n",
      " 19  order_priority  51284 non-null  object \n",
      " 20  year            51284 non-null  float64\n",
      "dtypes: float64(4), object(17)\n",
      "memory usage: 8.2+ MB\n"
     ]
    }
   ],
   "source": [
    "df.info()"
   ]
  },
  {
   "cell_type": "markdown",
   "id": "a745f0cb-6640-498b-8db7-e47ba6004507",
   "metadata": {},
   "source": [
    "### Data Cleaning"
   ]
  },
  {
   "cell_type": "code",
   "execution_count": 5,
   "id": "243947cf-ebe9-4d91-992d-6070c1024c91",
   "metadata": {},
   "outputs": [
    {
     "data": {
      "text/plain": [
       "51290"
      ]
     },
     "execution_count": 5,
     "metadata": {},
     "output_type": "execute_result"
    }
   ],
   "source": [
    "num_rows = len(df)\n",
    "num_rows"
   ]
  },
  {
   "cell_type": "code",
   "execution_count": 6,
   "id": "3595e984-39a7-46b0-aa78-9f02a2342bd5",
   "metadata": {},
   "outputs": [
    {
     "name": "stdout",
     "output_type": "stream",
     "text": [
      "order_id          0\n",
      "order_date        0\n",
      "ship_date         0\n",
      "ship_mode         0\n",
      "customer_name     0\n",
      "segment           0\n",
      "state             0\n",
      "country           0\n",
      "market            0\n",
      "region            0\n",
      "product_id        0\n",
      "category          0\n",
      "sub_category      0\n",
      "product_name      0\n",
      "sales             6\n",
      "quantity          6\n",
      "discount          6\n",
      "profit            6\n",
      "shipping_cost     6\n",
      "order_priority    6\n",
      "year              6\n",
      "dtype: int64\n",
      "0        False\n",
      "1        False\n",
      "2        False\n",
      "3        False\n",
      "4        False\n",
      "         ...  \n",
      "51285    False\n",
      "51286    False\n",
      "51287    False\n",
      "51288    False\n",
      "51289    False\n",
      "Length: 51290, dtype: bool\n"
     ]
    }
   ],
   "source": [
    "#Check Missing Values\n",
    "missing = df.isna().sum()\n",
    "print(missing)\n",
    "#Check Duplicate Values\n",
    "duplicates = df.duplicated()\n",
    "print(duplicates)"
   ]
  },
  {
   "cell_type": "code",
   "execution_count": 7,
   "id": "b4c5430d-26d5-459d-afe1-932fac6ab260",
   "metadata": {},
   "outputs": [],
   "source": [
    "df = df.dropna(subset=['sales','quantity','discount','profit','shipping_cost','order_priority'])"
   ]
  },
  {
   "cell_type": "code",
   "execution_count": 8,
   "id": "b34ee603-8e05-438f-9235-22d1bc7460a0",
   "metadata": {},
   "outputs": [],
   "source": [
    "df = df.drop_duplicates()"
   ]
  },
  {
   "cell_type": "code",
   "execution_count": 9,
   "id": "7c067a5b-3b22-491b-81ea-66370cbbb907",
   "metadata": {},
   "outputs": [],
   "source": [
    "#Drop Irrelevant Columns\n",
    "df = df.drop(columns=['year'])"
   ]
  },
  {
   "cell_type": "code",
   "execution_count": 10,
   "id": "fc403675-d644-4401-bc03-0b54fa7f42bc",
   "metadata": {},
   "outputs": [],
   "source": [
    "#Change Date Format\n",
    "df = df.sort_values('order_date')\n",
    "df['order_date'] = pd.to_datetime(df['order_date'], format='%d/%m/%Y', errors='coerce')\n",
    "df['ship_date'] = pd.to_datetime(df['ship_date'], format='%d/%m/%Y', errors='coerce')"
   ]
  },
  {
   "cell_type": "code",
   "execution_count": 11,
   "id": "82a603f0-ee4e-472b-81e6-2aaf02b76d51",
   "metadata": {},
   "outputs": [
    {
     "name": "stdout",
     "output_type": "stream",
     "text": [
      "order_date    datetime64[ns]\n",
      "ship_date     datetime64[ns]\n",
      "dtype: object\n"
     ]
    }
   ],
   "source": [
    "print(df.dtypes[['order_date','ship_date']])"
   ]
  },
  {
   "cell_type": "code",
   "execution_count": 12,
   "id": "28717c5c-b472-4e50-859e-47a11e4d0612",
   "metadata": {},
   "outputs": [],
   "source": [
    "#Change Numeric Format\n",
    "df['sales'] = pd.to_numeric(df['sales'], errors='coerce')\n",
    "df['discount'] = pd.to_numeric(df['discount'].str.rstrip('%'), errors='coerce') / 100"
   ]
  },
  {
   "cell_type": "code",
   "execution_count": 13,
   "id": "bba0c7fb-9e4c-473d-a858-353d39dfb5e2",
   "metadata": {},
   "outputs": [
    {
     "name": "stdout",
     "output_type": "stream",
     "text": [
      "sales       float64\n",
      "discount    float64\n",
      "dtype: object\n"
     ]
    }
   ],
   "source": [
    "print(df.dtypes[['sales','discount']])"
   ]
  },
  {
   "cell_type": "markdown",
   "id": "3d5ef781-ab44-48fe-86b9-988396d9fa2a",
   "metadata": {},
   "source": [
    "### Exploratory Data Analysis"
   ]
  },
  {
   "cell_type": "code",
   "execution_count": null,
   "id": "d06587bf-231b-43c9-b757-ae62fea1c9b7",
   "metadata": {},
   "outputs": [],
   "source": [
    "# 1. Sales Trend Over Time\n",
    "plt.figure(figsize=(10, 4))\n",
    "sns.lineplot(x='order_date', y='sales', data=df)\n",
    "plt.title('Sales Trend')\n",
    "plt.ylabel('Sales')\n",
    "plt.grid()\n",
    "plt.show()"
   ]
  },
  {
   "cell_type": "code",
   "execution_count": null,
   "id": "34fdc667-7d51-4d99-915a-1826ec039e5d",
   "metadata": {},
   "outputs": [],
   "source": [
    "# 2. Monthly Sales Trend Year\n",
    "\n",
    "# Extract Year and Month\n",
    "df['Year'] = df['order_date'].dt.year\n",
    "df['Month'] = df['order_date'].dt.month\n",
    "\n",
    "# Aggregate monthly sales\n",
    "monthly_sales = df.groupby(['Year', 'Month'])['sales'].sum().reset_index()\n",
    "\n",
    "# Convert month number to month name\n",
    "import calendar\n",
    "monthly_sales['Month Name'] = monthly_sales['Month'].apply(lambda x: calendar.month_abbr[x])\n",
    "\n",
    "# Sort months in order (Jan to Dec)\n",
    "month_order = list(calendar.month_abbr)[1:]  \n",
    "\n",
    "# Plot\n",
    "plt.figure(figsize=(12, 6))\n",
    "sns.barplot(\n",
    "    data=monthly_sales,\n",
    "    x='Month Name',\n",
    "    y='sales',\n",
    "    hue='Year',\n",
    "    order=month_order,\n",
    "    palette='Paired'\n",
    ")\n",
    "plt.title('Monthly Sales Trend by Year')\n",
    "plt.xlabel('Month')\n",
    "plt.ylabel('Total Sales')\n",
    "plt.legend(title='Year')\n",
    "plt.xticks(rotation=45)\n",
    "plt.tight_layout()\n",
    "plt.show()"
   ]
  },
  {
   "cell_type": "markdown",
   "id": "d664431b-32ab-4d01-b51a-19544bd30840",
   "metadata": {},
   "source": [
    "####  Observations and Trends from Monthly Sales (2011–2014)\n",
    "\n",
    "#####  General Sales Growth\n",
    "- **2011**: Lowest sales across all years.\n",
    "- **2012**: Better than 2011, but still behind 2013 and 2014.\n",
    "- **2013**: Strong growth compared to previous years.\n",
    "- **2014**: Highest overall sales, showing steady growth.\n",
    "\n",
    "#####  Monthly Sales Pattern\n",
    "- **Jan–Feb**: Sales are consistently low.\n",
    "- **March**: Noticeable increase in sales.\n",
    "- **April–June**: Sales steadily rise, with **June** being the strongest month in the first half.\n",
    "- **July–Sept**: Sales stay high with small fluctuations.\n",
    "- **Oct–Dec**: Sales peak in **November**, followed by high **December** numbers.\n",
    "\n",
    "#####  Peak Sales Months\n",
    "- **November**: Highest sales month every year.\n",
    "- **December**: Second highest, especially strong in 2014.\n",
    "- **June**: Strong mid-year sales.\n",
    "\n",
    "#####  Seasonal Trends\n",
    "- **Low Season**: January and February show consistent dips.\n",
    "- **High Season**: October to December show high performance, likely due to holidays.\n",
    "\n",
    "#####  Year-over-Year Comparison\n",
    "- Sales improved **each year** from 2011 to 2014.\n",
    "- Growth was especially sharp from 2012 to 2013, and continued into 2014.\n",
    "\n",
    "---\n",
    "\n",
    "#####  Key Insights\n",
    "-  **Upward Trend**: Sales increased consistently from 2011 to 2014.\n",
    "-  **Seasonality**: Clear peaks in Nov–Dec, dips in Jan–Feb.\n",
    "-  **Best Month**: November consistently leads in sales.\n",
    "-  **Planning Opportunity**: Use these trends for inventory, marketing, and budget planning.\n",
    "\n"
   ]
  },
  {
   "cell_type": "markdown",
   "id": "8a35b400-d1a6-4abf-903a-5393430196ec",
   "metadata": {},
   "source": []
  },
  {
   "cell_type": "code",
   "execution_count": null,
   "id": "1412b4ff-904e-403d-b3ee-699c2c8d3629",
   "metadata": {},
   "outputs": [],
   "source": [
    "# Sales dan Profit per Region\n",
    "plt.figure(figsize=(12, 6))\n",
    "\n",
    "agg = df.groupby('region')[['sales','profit']].sum().reset_index()\n",
    "sns.barplot(x='region', y='sales', data=agg, palette='tab20b', hue='region')\n",
    "plt.title('Total Sales per Region'); plt.xticks(rotation=45); plt.show()\n"
   ]
  },
  {
   "cell_type": "code",
   "execution_count": null,
   "id": "b50f7b73-679b-42ed-bd81-c377ffd3d184",
   "metadata": {},
   "outputs": [],
   "source": [
    "plt.figure(figsize=(12, 6))\n",
    "\n",
    "\n",
    "sns.barplot(x='region', y='profit', data=agg, palette='tab20c', hue='region')\n",
    "plt.title('Total Profit per Region'); plt.xticks(rotation=45); plt.show()"
   ]
  },
  {
   "cell_type": "markdown",
   "id": "b686fb54-e6d7-4a09-b019-1ad5d4649a85",
   "metadata": {},
   "source": [
    "####  Analysis of Sales and Profit by Region\n",
    "\n",
    "#####  Chart 1: Total Sales per Region\n",
    "- **Top Performer**:  *Central* region has the highest sales by far.\n",
    "- **Runner-Up**:  *South* region follows, with around 1 million in sales.\n",
    "- **Mid-Range Regions**: \n",
    "  - *North*, *EMEA*, *Oceania*, and *West* show moderate sales (around 0.75 million).\n",
    "- **Low Performers**: \n",
    "  - *Canada* and *Southeast Asia* have the lowest sales.\n",
    "  - *Caribbean* and *East* also perform poorly.\n",
    "\n",
    "#####  Chart 2: Total Profit per Region\n",
    "- **Top Profit Region**: *Central* also leads in profit.\n",
    "- **Second-Highest Profit**: *North*, followed closely by *South*.\n",
    "- **Moderate Profit Regions**: \n",
    "  - *North Asia*, *Oceania*, *West*, *EMEA*, and *Central Asia*.\n",
    "- **Low Profit Regions**: \n",
    "  - *Southeast Asia*, *Canada*, *Caribbean*, and *East*.\n",
    "\n",
    "#####  Comparison Between Sales and Profit\n",
    "- **Strong Correlation**: *Central* region dominates both sales and profit.\n",
    "- **Interesting Cases**:\n",
    "  - *South* has high sales but lower profit than *North* → May have lower margins or higher costs.\n",
    "  - *EMEA* and *Central Asia* have decent sales but weak profit → Possibly inefficient operations.\n",
    "- **Underperformers**: *Southeast Asia*, *Canada*, *Caribbean*, *East* are weak in both charts.\n",
    "\n",
    "---\n",
    "\n",
    "#####  Key Insights\n",
    "- ** Central is the strongest region** in both sales and profit.\n",
    "- ** South region has high sales, but profit needs improvement**—check pricing, discounts, or cost structure.\n",
    "- ** Underperformers need support** (e.g. *Southeast Asia*, *Canada*) through marketing or operational changes.\n",
    "- ** Mid-range performers** like *North*, *Oceania*, and *West* can be optimized further.\n",
    "\n",
    "---\n",
    "\n",
    "#####  Recommendations\n",
    "- ** Focus on Central**: Learn from its success and apply across regions.\n",
    "- ** Improve profit in South**: Review profit levers to match its strong sales.\n",
    "- ** Boost weak regions**: Launch targeted improvements in underperforming regions.\n",
    "- ** Optimize middle-tier**: Support mid-range regions to push them into top performance.\n"
   ]
  },
  {
   "cell_type": "code",
   "execution_count": null,
   "id": "b1fa95ff-1bba-4810-a837-921fb5c024ac",
   "metadata": {},
   "outputs": [],
   "source": [
    "sns.countplot(x='category', palette='tab20c', hue='category', data=df)\n",
    "plt.title('Count of Category')\n",
    "plt.show()"
   ]
  },
  {
   "cell_type": "markdown",
   "id": "debff23d-90ba-4af6-8fb5-1ea4602db989",
   "metadata": {},
   "source": [
    "\n",
    "#####  Chart Title: \"Count of Category\"\n",
    "\n",
    "#####  Observations:\n",
    "- Office Supplies:\n",
    "  - Has the **highest count**, around **31,000**\n",
    "  - Clearly dominates the other categories\n",
    "\n",
    "- Furniture:\n",
    "  - Moderate count, around **10,000**\n",
    "\n",
    "- Technology:\n",
    "  - Similar to Furniture, also around **10,000**\n",
    "\n",
    "---\n",
    "\n",
    "#####  Key Insights:\n",
    "- **Office Supplies** has more than **3x the count** compared to both Furniture and Technology.\n",
    "- **Furniture and Technology** categories are **very close in volume**, suggesting similar demand or inventory levels.\n"
   ]
  },
  {
   "cell_type": "code",
   "execution_count": null,
   "id": "0b387235-c1e5-4bc4-b04b-ef6daef597bb",
   "metadata": {},
   "outputs": [],
   "source": [
    "seg = df.groupby('segment')['sales'].sum().reset_index()\n",
    "sns.barplot(x='segment', y='sales', data=seg, palette='tab20', hue='segment')\n",
    "plt.title('Total Sales per Segment'); plt.show()"
   ]
  },
  {
   "cell_type": "markdown",
   "id": "7e1090c7-c1e3-488d-aa50-7353240365c9",
   "metadata": {},
   "source": [
    "####  Total Sales per Segment Analysis\n",
    "\n",
    "#####  Observations:\n",
    "- Consumer:\n",
    "  - Highest sales, around **4,000,000**\n",
    "  - Dominates the chart and contributes the most to revenue\n",
    "\n",
    "- Corporate:\n",
    "  - Second place with about **2,500,000** in sales\n",
    "  - Has potential for further growth\n",
    "\n",
    "- Home Office:\n",
    "  - Lowest sales, around **1,500,000**\n",
    "  - Underperforming compared to other segments\n",
    "\n",
    "---\n",
    "\n",
    "#####  Key Insights:\n",
    "- **Consumer** segment leads strongly, suggesting high demand or effective outreach to individuals.\n",
    "- **Corporate** performs well but could be expanded with better B2B strategies.\n",
    "- **Home Office** is the weakest segment and may need a focused strategy to boost performance.\n",
    "\n"
   ]
  },
  {
   "cell_type": "markdown",
   "id": "0e36b78a-b400-42fb-b0fe-3c2431796ad3",
   "metadata": {},
   "source": [
    "### Linear Regression"
   ]
  },
  {
   "cell_type": "code",
   "execution_count": null,
   "id": "31042e38-03eb-4fd5-946c-83887371028c",
   "metadata": {},
   "outputs": [],
   "source": [
    "# 3. Linear Regression: Profit ~ Discount\n",
    "X = df[['discount']]  # variabel independen\n",
    "y = df['profit']      # target\n",
    "model = LinearRegression()\n",
    "model.fit(X, y)\n",
    "y_pred = model.predict(X)\n",
    "print(f\"Coef: {model.coef_[0]:.4f}, Intercept: {model.intercept_:.2f}\")\n",
    "print(f\"R²: {r2_score(y, y_pred):.3f}, MSE: {mean_squared_error(y, y_pred):.2f}\")"
   ]
  },
  {
   "cell_type": "code",
   "execution_count": null,
   "id": "a4edef2f-1f48-4693-9dc3-dfe78d9f1f4a",
   "metadata": {},
   "outputs": [],
   "source": [
    "# Plot scatter + regression line\n",
    "sns.scatterplot(x='discount', y='profit', data=df, alpha=0.4)\n",
    "plt.plot(df['discount'], y_pred, color='red')\n",
    "plt.title('Regression: Profit vs Discount')\n",
    "plt.xlabel('Discount')\n",
    "plt.ylabel('Profit')\n",
    "plt.show()"
   ]
  },
  {
   "cell_type": "markdown",
   "id": "3bec6705-fb0e-473f-85fe-ca858cb0c9d4",
   "metadata": {},
   "source": [
    "##### Interpretation\n",
    "\n",
    "* The model suggests that for every 1% increase in discount, profit decreases by approximately $2.60 on average.\n",
    "\n",
    "* The R² value of 0.10 indicates a weak relationship, meaning other factors likely influence profit as well (e.g., cost structure, product category, logistics).\n",
    "\n",
    "##### Business Insight:\n",
    "\n",
    "* Excessive discounts may erode profit margins. Businesses should optimize discount strategies to balance volume and profitability."
   ]
  },
  {
   "cell_type": "markdown",
   "id": "b046b5d0-cc97-4115-8643-2c18aa2b97e3",
   "metadata": {},
   "source": [
    "### K-Means Clustering"
   ]
  },
  {
   "cell_type": "code",
   "execution_count": null,
   "id": "ba98bb55-2c00-4bda-ae1a-b56cfff56e30",
   "metadata": {},
   "outputs": [],
   "source": [
    "# Create features\n",
    "clust = df[['sales', 'profit']].dropna()"
   ]
  },
  {
   "cell_type": "code",
   "execution_count": null,
   "id": "c30b174e-338e-48d1-b514-91e1957cbf6a",
   "metadata": {},
   "outputs": [],
   "source": [
    "# Standardize features to balance the scale\n",
    "scaler = StandardScaler()\n",
    "X_scaled = scaler.fit_transform(clust)"
   ]
  },
  {
   "cell_type": "code",
   "execution_count": null,
   "id": "7213c107-bde1-4c13-a519-03551fe6d833",
   "metadata": {},
   "outputs": [],
   "source": [
    "# Elbow method for k\n",
    "sse = []\n",
    "for k in range(2,6):\n",
    "    kmeans = KMeans(n_clusters=k, init='k-means++', random_state=42)\n",
    "    kmeans.fit(X_scaled)\n",
    "    sse.append(kmeans.inertia_)\n",
    "\n",
    "plt.plot(range(2,6), sse, marker='o')\n",
    "plt.title('Elbow Method')\n",
    "plt.xlabel('k')\n",
    "plt.ylabel('Inertia')\n",
    "plt.show()"
   ]
  },
  {
   "cell_type": "code",
   "execution_count": null,
   "id": "d6c91197-46e7-4cef-afb7-947a5a1e89a2",
   "metadata": {},
   "outputs": [],
   "source": [
    "# Based on elbow (k=3), run clustering\n",
    "k_opt = 3\n",
    "kmeans = KMeans(n_clusters=k_opt, init='k-means++', random_state=42)\n",
    "clust['cluster'] = kmeans.fit_predict(X_scaled)"
   ]
  },
  {
   "cell_type": "code",
   "execution_count": null,
   "id": "4e571250-e914-4722-8731-968c101730ba",
   "metadata": {},
   "outputs": [],
   "source": [
    "# Visualize clustering results\n",
    "plt.figure(figsize=(8,6))\n",
    "sns.scatterplot(data=clust, x='sales', y='profit', hue='cluster', palette='Set1')\n",
    "plt.title('Clusters based on Sales & Profit')\n",
    "plt.xlabel('Sales')\n",
    "plt.ylabel('Profit')\n",
    "plt.legend(title='Cluster')\n",
    "plt.show()"
   ]
  },
  {
   "cell_type": "code",
   "execution_count": null,
   "id": "dadaa986-de23-4f3c-86a6-924ff23665f9",
   "metadata": {},
   "outputs": [],
   "source": [
    "# Combine with product name to see details per cluster\n",
    "result = df[['product_name', 'sales', 'profit']].join(clust['cluster'])"
   ]
  },
  {
   "cell_type": "code",
   "execution_count": null,
   "id": "cafc53c3-3422-43e9-8484-b6a8f0f07774",
   "metadata": {
    "scrolled": true
   },
   "outputs": [],
   "source": [
    "# Display the clustering results table\n",
    "display(result.sort_values('cluster').head(10))  # show first 10"
   ]
  },
  {
   "cell_type": "markdown",
   "id": "6edebd3f-80b1-4578-a86a-c87706a14f37",
   "metadata": {},
   "source": [
    "##### Features used:\n",
    "\n",
    "* Sales and Profit\n",
    "* Optimal number of clusters: 3 (based on Elbow Method)\n",
    "\n",
    "##### Interpretation:\n",
    "\n",
    "* Cluster 0 (Low Sales – Low Profit): Underperforming products that may need discontinuation or pricing review.\n",
    "\n",
    "* Cluster 1 (High Sales – High Profit): Star products with strong performance — ideal for scaling and promotional campaigns.\n",
    "\n",
    "* Cluster 2 (High Sales – Low Profit): High-volume but low-margin products. Could signal over-discounting or high fulfillment costs.\n",
    "\n",
    "##### Business Insight:\n",
    "\n",
    "* This segmentation enables smarter decisions on which products to boost, restructure, or phase out."
   ]
  },
  {
   "cell_type": "markdown",
   "id": "e948a184-7fba-4703-9a5f-be6173561df4",
   "metadata": {},
   "source": [
    "### Forecast "
   ]
  },
  {
   "cell_type": "markdown",
   "id": "690a84cf-24bc-41f2-a2eb-ede579df830f",
   "metadata": {},
   "source": [
    "### Moving Average"
   ]
  },
  {
   "cell_type": "code",
   "execution_count": null,
   "id": "e8a0a7e4-f002-43dd-85ba-d920584ad756",
   "metadata": {},
   "outputs": [],
   "source": [
    "#  Moving Average Forecast: monthly profit\n",
    "df_ts = df.set_index('order_date').resample('M')['sales'].sum().to_frame()\n",
    "df_ts['MA_3'] = df_ts['sales'].rolling(window=3).mean()\n",
    "\n",
    "df_ts.plot(figsize=(10,5))\n",
    "plt.title('Monthly sales & 3-Month Moving Average')\n",
    "plt.xlabel('Month')\n",
    "plt.ylabel('Total sales')\n",
    "plt.show()"
   ]
  },
  {
   "cell_type": "markdown",
   "id": "a5962da5-0470-4950-8e31-3c5269f6827e",
   "metadata": {},
   "source": [
    "### Exponential Smoothing"
   ]
  },
  {
   "cell_type": "code",
   "execution_count": null,
   "id": "1414ec26-131c-40e8-86f8-2448e600ad30",
   "metadata": {},
   "outputs": [],
   "source": [
    "df['order_date'] = pd.to_datetime(df['order_date'])\n",
    "df.set_index('order_date', inplace=True)\n",
    "sales_monthly = df['sales'].resample('M').sum()"
   ]
  },
  {
   "cell_type": "code",
   "execution_count": null,
   "id": "52af273a-db82-42d7-92be-8ae3022115ea",
   "metadata": {
    "scrolled": true
   },
   "outputs": [],
   "source": [
    "from statsmodels.tsa.holtwinters import ExponentialSmoothing\n",
    "\n",
    "model = ExponentialSmoothing(sales_monthly, trend='add', seasonal='add', seasonal_periods=12)\n",
    "fit = model.fit()\n",
    "forecast = fit.forecast(6)\n",
    "\n",
    "sales_monthly.plot(label='Actual')\n",
    "forecast.plot(label='Forecast', linestyle='--')\n",
    "plt.legend()\n",
    "plt.show()"
   ]
  },
  {
   "cell_type": "code",
   "execution_count": null,
   "id": "0a110fe7-cd65-49ae-b524-fe727236dee7",
   "metadata": {
    "scrolled": true
   },
   "outputs": [],
   "source": [
    "from statsmodels.tsa.holtwinters import ExponentialSmoothing\n",
    "import pandas as pd\n",
    "import matplotlib.pyplot as plt\n",
    "\n",
    "# Model\n",
    "model = ExponentialSmoothing(sales_monthly, trend='add', seasonal='add', seasonal_periods=12)\n",
    "fit = model.fit()\n",
    "\n",
    "# Fitted + forecast\n",
    "fitted = fit.fittedvalues\n",
    "forecast = fit.forecast(6)\n",
    "combined = pd.concat([fitted, forecast])\n",
    "\n",
    "# Plot\n",
    "sales_monthly.plot(label='Actual', color='blue')\n",
    "combined.plot(label='Fitted + Forecast', color='orange', linestyle='--')\n",
    "plt.legend()\n",
    "plt.title(\"Holt-Winters Forecast (Fitted + Forecast)\")\n",
    "plt.xlabel(\"Date\")\n",
    "plt.ylabel(\"Sales\")\n",
    "plt.show()\n"
   ]
  },
  {
   "cell_type": "code",
   "execution_count": null,
   "id": "1226dc91-7111-4088-bcfb-7d9bf9c055d5",
   "metadata": {
    "scrolled": true
   },
   "outputs": [],
   "source": [
    "# Create a DataFrame for forecast results\n",
    "forecast_df = pd.DataFrame({\n",
    "    'Date': forecast.index,\n",
    "    'Forecasted_Sales': forecast.values\n",
    "})\n",
    "\n",
    "# Reset index so that date becomes a regular column (not index)\n",
    "forecast_df = forecast_df.reset_index(drop=True)\n",
    "\n",
    "# Show table\n",
    "print(forecast_df)"
   ]
  },
  {
   "cell_type": "markdown",
   "id": "946a6a94-3b9d-4202-b083-46fea5a13c08",
   "metadata": {},
   "source": [
    "##### Interpretation\n",
    "\n",
    "* Forecast indicates clear seasonality with a gradual upward trend peaking around June 2015.\n",
    "\n",
    "* This suggests cyclical buying patterns, likely tied to seasonal promotions or events.\n",
    "\n",
    "##### Business Insight:\n",
    "\n",
    "* Forecast results can guide supply planning, budget allocation, and campaign timing for peak months."
   ]
  },
  {
   "cell_type": "code",
   "execution_count": null,
   "id": "dd84746a-edf5-45d1-beee-99191e304faf",
   "metadata": {},
   "outputs": [],
   "source": []
  }
 ],
 "metadata": {
  "kernelspec": {
   "display_name": "Python 3 (ipykernel)",
   "language": "python",
   "name": "python3"
  },
  "language_info": {
   "codemirror_mode": {
    "name": "ipython",
    "version": 3
   },
   "file_extension": ".py",
   "mimetype": "text/x-python",
   "name": "python",
   "nbconvert_exporter": "python",
   "pygments_lexer": "ipython3",
   "version": "3.10.7"
  }
 },
 "nbformat": 4,
 "nbformat_minor": 5
}
